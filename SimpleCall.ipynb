{
 "cells": [
  {
   "cell_type": "code",
   "execution_count": 2,
   "metadata": {},
   "outputs": [
    {
     "name": "stdout",
     "output_type": "stream",
     "text": [
      "Requirement already satisfied: langchain in /Users/das/anaconda3/envs/ChatDev_conda_env/lib/python3.9/site-packages (0.1.12)\n",
      "Requirement already satisfied: PyYAML>=5.3 in /Users/das/anaconda3/envs/ChatDev_conda_env/lib/python3.9/site-packages (from langchain) (6.0)\n",
      "Requirement already satisfied: SQLAlchemy<3,>=1.4 in /Users/das/anaconda3/envs/ChatDev_conda_env/lib/python3.9/site-packages (from langchain) (2.0.28)\n",
      "Requirement already satisfied: aiohttp<4.0.0,>=3.8.3 in /Users/das/anaconda3/envs/ChatDev_conda_env/lib/python3.9/site-packages (from langchain) (3.8.4)\n",
      "Requirement already satisfied: async-timeout<5.0.0,>=4.0.0 in /Users/das/anaconda3/envs/ChatDev_conda_env/lib/python3.9/site-packages (from langchain) (4.0.2)\n",
      "Requirement already satisfied: dataclasses-json<0.7,>=0.5.7 in /Users/das/anaconda3/envs/ChatDev_conda_env/lib/python3.9/site-packages (from langchain) (0.6.4)\n",
      "Requirement already satisfied: jsonpatch<2.0,>=1.33 in /Users/das/anaconda3/envs/ChatDev_conda_env/lib/python3.9/site-packages (from langchain) (1.33)\n",
      "Requirement already satisfied: langchain-community<0.1,>=0.0.28 in /Users/das/anaconda3/envs/ChatDev_conda_env/lib/python3.9/site-packages (from langchain) (0.0.28)\n",
      "Requirement already satisfied: langchain-core<0.2.0,>=0.1.31 in /Users/das/anaconda3/envs/ChatDev_conda_env/lib/python3.9/site-packages (from langchain) (0.1.32)\n",
      "Requirement already satisfied: langchain-text-splitters<0.1,>=0.0.1 in /Users/das/anaconda3/envs/ChatDev_conda_env/lib/python3.9/site-packages (from langchain) (0.0.1)\n",
      "Requirement already satisfied: langsmith<0.2.0,>=0.1.17 in /Users/das/anaconda3/envs/ChatDev_conda_env/lib/python3.9/site-packages (from langchain) (0.1.26)\n",
      "Requirement already satisfied: numpy<2,>=1 in /Users/das/anaconda3/envs/ChatDev_conda_env/lib/python3.9/site-packages (from langchain) (1.24.3)\n",
      "Requirement already satisfied: pydantic<3,>=1 in /Users/das/anaconda3/envs/ChatDev_conda_env/lib/python3.9/site-packages (from langchain) (2.6.4)\n",
      "Requirement already satisfied: requests<3,>=2 in /Users/das/anaconda3/envs/ChatDev_conda_env/lib/python3.9/site-packages (from langchain) (2.31.0)\n",
      "Requirement already satisfied: tenacity<9.0.0,>=8.1.0 in /Users/das/anaconda3/envs/ChatDev_conda_env/lib/python3.9/site-packages (from langchain) (8.2.2)\n",
      "Requirement already satisfied: attrs>=17.3.0 in /Users/das/anaconda3/envs/ChatDev_conda_env/lib/python3.9/site-packages (from aiohttp<4.0.0,>=3.8.3->langchain) (23.1.0)\n",
      "Requirement already satisfied: charset-normalizer<4.0,>=2.0 in /Users/das/anaconda3/envs/ChatDev_conda_env/lib/python3.9/site-packages (from aiohttp<4.0.0,>=3.8.3->langchain) (3.1.0)\n",
      "Requirement already satisfied: multidict<7.0,>=4.5 in /Users/das/anaconda3/envs/ChatDev_conda_env/lib/python3.9/site-packages (from aiohttp<4.0.0,>=3.8.3->langchain) (6.0.4)\n",
      "Requirement already satisfied: yarl<2.0,>=1.0 in /Users/das/anaconda3/envs/ChatDev_conda_env/lib/python3.9/site-packages (from aiohttp<4.0.0,>=3.8.3->langchain) (1.9.2)\n",
      "Requirement already satisfied: frozenlist>=1.1.1 in /Users/das/anaconda3/envs/ChatDev_conda_env/lib/python3.9/site-packages (from aiohttp<4.0.0,>=3.8.3->langchain) (1.3.3)\n",
      "Requirement already satisfied: aiosignal>=1.1.2 in /Users/das/anaconda3/envs/ChatDev_conda_env/lib/python3.9/site-packages (from aiohttp<4.0.0,>=3.8.3->langchain) (1.3.1)\n",
      "Requirement already satisfied: marshmallow<4.0.0,>=3.18.0 in /Users/das/anaconda3/envs/ChatDev_conda_env/lib/python3.9/site-packages (from dataclasses-json<0.7,>=0.5.7->langchain) (3.21.1)\n",
      "Requirement already satisfied: typing-inspect<1,>=0.4.0 in /Users/das/anaconda3/envs/ChatDev_conda_env/lib/python3.9/site-packages (from dataclasses-json<0.7,>=0.5.7->langchain) (0.9.0)\n",
      "Requirement already satisfied: jsonpointer>=1.9 in /Users/das/anaconda3/envs/ChatDev_conda_env/lib/python3.9/site-packages (from jsonpatch<2.0,>=1.33->langchain) (2.4)\n",
      "Requirement already satisfied: anyio<5,>=3 in /Users/das/anaconda3/envs/ChatDev_conda_env/lib/python3.9/site-packages (from langchain-core<0.2.0,>=0.1.31->langchain) (4.3.0)\n",
      "Requirement already satisfied: packaging<24.0,>=23.2 in /Users/das/anaconda3/envs/ChatDev_conda_env/lib/python3.9/site-packages (from langchain-core<0.2.0,>=0.1.31->langchain) (23.2)\n",
      "Requirement already satisfied: orjson<4.0.0,>=3.9.14 in /Users/das/anaconda3/envs/ChatDev_conda_env/lib/python3.9/site-packages (from langsmith<0.2.0,>=0.1.17->langchain) (3.9.15)\n",
      "Requirement already satisfied: annotated-types>=0.4.0 in /Users/das/anaconda3/envs/ChatDev_conda_env/lib/python3.9/site-packages (from pydantic<3,>=1->langchain) (0.6.0)\n",
      "Requirement already satisfied: pydantic-core==2.16.3 in /Users/das/anaconda3/envs/ChatDev_conda_env/lib/python3.9/site-packages (from pydantic<3,>=1->langchain) (2.16.3)\n",
      "Requirement already satisfied: typing-extensions>=4.6.1 in /Users/das/anaconda3/envs/ChatDev_conda_env/lib/python3.9/site-packages (from pydantic<3,>=1->langchain) (4.10.0)\n",
      "Requirement already satisfied: idna<4,>=2.5 in /Users/das/anaconda3/envs/ChatDev_conda_env/lib/python3.9/site-packages (from requests<3,>=2->langchain) (3.4)\n",
      "Requirement already satisfied: urllib3<3,>=1.21.1 in /Users/das/anaconda3/envs/ChatDev_conda_env/lib/python3.9/site-packages (from requests<3,>=2->langchain) (2.0.3)\n",
      "Requirement already satisfied: certifi>=2017.4.17 in /Users/das/anaconda3/envs/ChatDev_conda_env/lib/python3.9/site-packages (from requests<3,>=2->langchain) (2023.5.7)\n",
      "Requirement already satisfied: sniffio>=1.1 in /Users/das/anaconda3/envs/ChatDev_conda_env/lib/python3.9/site-packages (from anyio<5,>=3->langchain-core<0.2.0,>=0.1.31->langchain) (1.3.1)\n",
      "Requirement already satisfied: exceptiongroup>=1.0.2 in /Users/das/anaconda3/envs/ChatDev_conda_env/lib/python3.9/site-packages (from anyio<5,>=3->langchain-core<0.2.0,>=0.1.31->langchain) (1.2.0)\n",
      "Requirement already satisfied: mypy-extensions>=0.3.0 in /Users/das/anaconda3/envs/ChatDev_conda_env/lib/python3.9/site-packages (from typing-inspect<1,>=0.4.0->dataclasses-json<0.7,>=0.5.7->langchain) (1.0.0)\n",
      "Note: you may need to restart the kernel to use updated packages.\n",
      "好的，下面是一个经典的苏联笑话：\n",
      "\n",
      "一天，一个苏联工程师走进一家餐馆，他对服务员说：“我要一份煎蛋。”\n",
      "\n",
      "服务员惊讶地看着他，然后回答说：“对不起，我们这里只卖煮鸡蛋。”\n",
      "\n",
      "这个故事反映了当时苏联的物资匮乏和生活水平相对较低。当然，这只是个笑话，并非真正的历史事件。\n",
      "\n"
     ]
    }
   ],
   "source": [
    "%pip install langchain\n",
    "from langchain.llms import Ollama\n",
    "\n",
    "# 创建一个Ollama实例并选择要使用的模型\n",
    "llm = Ollama(model=\"qwen:14b\")\n",
    "\n",
    "# 发送查询并获取响应\n",
    "response = llm.invoke(\"来点苏联笑话吧！\")\n",
    "print(response)"
   ]
  }
 ],
 "metadata": {
  "kernelspec": {
   "display_name": "ChatDev_conda_env",
   "language": "python",
   "name": "python3"
  },
  "language_info": {
   "codemirror_mode": {
    "name": "ipython",
    "version": 3
   },
   "file_extension": ".py",
   "mimetype": "text/x-python",
   "name": "python",
   "nbconvert_exporter": "python",
   "pygments_lexer": "ipython3",
   "version": "3.9.17"
  }
 },
 "nbformat": 4,
 "nbformat_minor": 2
}
